{
 "cells": [
  {
   "cell_type": "code",
   "execution_count": 2,
   "metadata": {},
   "outputs": [
    {
     "name": "stdout",
     "output_type": "stream",
     "text": [
      "== Cuda: True ===\n"
     ]
    }
   ],
   "source": [
    "import sys\n",
    "sys.path.insert(1, './src')\n",
    "\n",
    "from tagger import CrfModel\n",
    "from data_loader import BuildDataLoader\n",
    "from environment import LabelEnv\n",
    "from agent import ParamRNN, AgentParamRNN\n",
    "\n",
    "from gensim.models import KeyedVectors\n",
    "import numpy as np\n",
    "import random\n",
    "import argparse\n",
    "import matplotlib\n",
    "import matplotlib.pyplot as plt\n",
    "import pickle\n",
    "\n",
    "import warnings; warnings.simplefilter('ignore')\n",
    "import torch\n",
    "import torch.nn as nn\n",
    "import torch.optim as optim\n",
    "import torch.nn.functional as F\n",
    "import torchvision.transforms as T\n",
    "from torch.autograd import Variable  \n",
    "\n",
    "# if gpu is to be used\n",
    "device = torch.device('cuda' if torch.cuda.is_available() else \"cpu\")\n",
    "print (\"== Cuda: {} ===\".format(torch.cuda.is_available()))\n"
   ]
  },
  {
   "cell_type": "code",
   "execution_count": 2,
   "metadata": {},
   "outputs": [
    {
     "name": "stdout",
     "output_type": "stream",
     "text": [
      "=== data loading ===\n",
      "word dict size: 25\n",
      "label dict size: 126\n",
      "Replace digit with NUM: True\n",
      "use embedding: False\n",
      "embedding size: 25\n",
      "number of instances: 1335\n",
      "=== Tagger initialized ===\n",
      "-- label dict size: 126\n",
      "-- word dict size: 25\n"
     ]
    }
   ],
   "source": [
    "SOURCE = 'sod'\n",
    "DATA_PATH = \"./datasets/\" + SOURCE\n",
    "NUM_FLAG = True\n",
    "EMBED_FLAG = False\n",
    "FEAT = 'all'\n",
    "\n",
    "dataloader = BuildDataLoader(SOURCE, DATA_PATH, NUM_FLAG, EMBED_FLAG)\n",
    "crf = CrfModel(dataloader, FEAT)"
   ]
  },
  {
   "cell_type": "code",
   "execution_count": 8,
   "metadata": {},
   "outputs": [
    {
     "name": "stdout",
     "output_type": "stream",
     "text": [
      "max_len is: 14\n",
      "crf para size: (201, 126)\n",
      "=== Env: data ===\n",
      "train     : 600\n",
      "validation: 200\n",
      "test      : 200\n",
      "=== Env: setup ===\n",
      "reward reweight: valid2Tx\n",
      "similarity for valid to test done -- size=(200,)\n",
      "budget: 2\n",
      "=== Agent: created\n",
      "Q-net parameter size: 46769\n",
      ">>>> Start play\n",
      "cost 2: queried 382 with greedy 0:-0.3412691354751587, acc=(0.6507142857142857, 0.6660714285714284)\n"
     ]
    }
   ],
   "source": [
    "samples = [4]\n",
    "VALID_N = 200\n",
    "TEST_N = 200\n",
    "TRAIN_N = 600\n",
    "REWEIGHT = 'valid2Tx'\n",
    "GEEDY = 'te'\n",
    "BUDGET = 2\n",
    "max_len = dataloader.get_max_len()\n",
    "embedding_size = dataloader.get_embed_size()\n",
    "parameter_shape = crf.get_para_shape()\n",
    "print (\"max_len is: {}\".format(max_len))\n",
    "print (\"crf para size: {}\".format(parameter_shape))\n",
    "\n",
    "qvalue_list = []\n",
    "action_mark_list = []\n",
    "prob_list = []\n",
    "for seed in samples:\n",
    "    env = LabelEnv(dataloader, crf, seed, VALID_N, TEST_N, TRAIN_N, REWEIGHT, BUDGET)\n",
    "    agent = AgentParamRNN(GEEDY, max_len, embedding_size, parameter_shape)\n",
    "    \n",
    "    print (\">>>> Start play\")\n",
    "    step = 0\n",
    "    while env.cost < BUDGET:\n",
    "        env.resume()\n",
    "        observation = env.get_state()\n",
    "        observ = [observation[0], observation[1], observation[3], observation[4], observation[5]] \n",
    "        greedy_flg, action, q_value = agent.get_action(observ)\n",
    "        reward, observation2, terminal = env.feedback(action)\n",
    "        (acc_test, acc_valid) = env.eval_tagger()\n",
    "        print (\"cost {}: queried {} with greedy {}:{}, acc=({}, {})\".format(env.cost, action, greedy_flg, \n",
    "                                                                            q_value.item(), acc_test, acc_valid))\n",
    "        \n",
    "        qvalue_list.append(q_value.item())\n",
    "        action_mark_list.append(greedy_flg)\n",
    "        prob_list.append(observation[1][action])\n",
    "        \n",
    "        if env.cost % 10 == 0:\n",
    "            step += 10\n",
    "        \n",
    "        if env.cost < 3:\n",
    "            continue\n",
    "            \n",
    "        for n in range(20 + step):\n",
    "            env.reboot()\n",
    "            while env.terminal == False:\n",
    "                observation = env.get_state()\n",
    "                observ = [observation[0], observation[1], observation[3], observation[4], observation[5]] \n",
    "                greedy_flg, action, q_value = agent.get_action(observ)\n",
    "                reward, observation2, terminal = env.feedback(action)\n",
    "                observ2 = [observation2[0], observation2[1], observation2[3], observation2[4], observation2[5]]\n",
    "                agent.update(observ, action, reward, observ2, terminal)\n",
    "            "
   ]
  },
  {
   "cell_type": "code",
   "execution_count": 14,
   "metadata": {},
   "outputs": [],
   "source": [
    "cost_list = sorted(env.acc_trace.keys())\n",
    "acc_list = [env.acc_trace[i][0] for i in cost_list]\n",
    "acc_valid_list = [env.acc_trace[i][1] for i in cost_list]\n",
    "\n",
    "num = \"num\" if NUM_FLAG else \"\"\n",
    "emb = \"embed\" if EMBED_FLAG else \"\"\n",
    "filename = \"./results_run/\" + SOURCE + num + emb + \"_\" + str(BUDGET) + \"bgt_\" + GEEDY + \"_\" + REWEIGHT + \"_\" + FEAT\n",
    "\n",
    "with open(filename + \".bin\", \"wb\") as result:\n",
    "    pickle.dump((cost_list, acc_list, acc_valid_list), result)"
   ]
  },
  {
   "cell_type": "code",
   "execution_count": 15,
   "metadata": {},
   "outputs": [
    {
     "name": "stdout",
     "output_type": "stream",
     "text": [
      "[-0.3412691354751587] [0] [0.8046558188143749]\n"
     ]
    },
    {
     "data": {
      "image/png": "[encoded data removed]",
      "text/plain": [
       "<Figure size 1080x360 with 2 Axes>"
      ]
     },
     "metadata": {
      "needs_background": "light"
     },
     "output_type": "display_data"
    }
   ],
   "source": [
    "print (qvalue_list, action_mark_list, prob_list)\n",
    "# ======================================== sanity check =====================================================\n",
    "x = range(len(qvalue_list))\n",
    "\n",
    "fig, axes = plt.subplots(ncols=2, nrows=1)\n",
    "ax = axes.flatten()\n",
    "\n",
    "ax[0].plot(x, qvalue_list, color='0.5')\n",
    "x2 = []\n",
    "y2 = []\n",
    "for i in x:\n",
    "    if action_mark_list[i] == 1:\n",
    "        x2.append(i)\n",
    "        y2.append(qvalue_list[i])\n",
    "l1 = ax[0].scatter(x2, y2, color='r', marker='o')\n",
    "x2 = []\n",
    "y2 = []\n",
    "for i in x:\n",
    "    if action_mark_list[i] == 0:\n",
    "        x2.append(i)\n",
    "        y2.append(qvalue_list[i])\n",
    "l2 = ax[0].scatter(x2, y2, color='g', marker='x')\n",
    "ax[0].legend((l1,l2),\n",
    "           ('$action > \\\\epsilon$', '$action < \\\\epsilon$'))\n",
    "\n",
    "ax[0].set_title('{} dataset'.format(SOURCE))\n",
    "# plt.xlim(0, 20)\n",
    "ax[0].set_ylabel('Q value')\n",
    "ax[0].set_xlabel('Sequence number')\n",
    "\n",
    "# print (qvalue_list)\n",
    "ax[1].scatter(qvalue_list, prob_list)\n",
    "for i in range(len(qvalue_list)):\n",
    "    ax[1].annotate(i, (qvalue_list[i], prob_list[i]))\n",
    "ax[1].set_xlabel('Q value')\n",
    "ax[1].set_ylabel('Likelihood')\n",
    "plt.subplots_adjust(wspace=0.1)\n",
    "fig.set_size_inches(15,5)\n",
    "# plt.show()\n",
    "plt.savefig(filename + '_check.png')"
   ]
  },
  {
   "cell_type": "code",
   "execution_count": 25,
   "metadata": {},
   "outputs": [
    {
     "data": {
      "image/png": "[encoded data removed]",
      "text/plain": [
       "<Figure size 432x288 with 1 Axes>"
      ]
     },
     "metadata": {
      "needs_background": "light"
     },
     "output_type": "display_data"
    }
   ],
   "source": [
    "# sim beta\n",
    "with open(\"./results/conll15_200_75budget_fully_none.bin\", \"rb\") as in_file:\n",
    "    (cost_1, _, _, all_acc_1, acc_valid_1) = pickle.load(in_file)\n",
    "#     (cost_1, all_acc_1, acc_valid_1) = pickle.load(in_file)\n",
    "       \n",
    "with open(\"./results/conllnumembed_75bgt_te_valid2V_all.bin\", \"rb\") as in_file:\n",
    "    (cost_2, all_acc_2, acc_valid_2) = pickle.load(in_file)\n",
    "\n",
    "with open(\"./results/conll30numembed_200_100budget_valid2VRL_all_te_acc_20step_5batch20decay_100loop-add10each10step-3_64rnn_16filter_4size_2stride.bin\", \"rb\") as in_file:\n",
    "    (cost_3, all_acc_3, acc_valid_3) = pickle.load(in_file)\n",
    "\n",
    "with open(\"./results/conll30numembed_200_100budget_valid2VRLtrellis_all_te_acc_20step_5batch20decay_100loop-add10each10step-3_64rnn_16filter_4size_2stride.bin\", \"rb\") as in_file:\n",
    "    (cost_4, all_acc_4, acc_valid_4) = pickle.load(in_file)\n",
    "    \n",
    "with open(\"./results/CNNDQN-conll-20.bin\", \"rb\") as in_file:\n",
    "    (cost_5, all_acc_5, acc_valid_5) = pickle.load(in_file)\n",
    "\n",
    "# with open(\"./results/sod15num_200_testVRL_acc2_all_rand_20step_5batch20decay_90loopdecay_64rnn_16filter_4size_2stride.bin\", \"rb\") as in_file:\n",
    "#     (cost_6, in_acc_6, out_acc_6, all_acc_6, acc_valid_6) = pickle.load(in_file)\n",
    "\n",
    "# with open(\"./results/sod15num_200_testVRL_acc2_all_te_20step_5batch20decay_90loopdecay_64rnn_16filter_4size_2stride.bin\", \"rb\") as in_file:\n",
    "#     (cost_7, in_acc_7, out_acc_7, all_acc_7, acc_valid_7) = pickle.load(in_file)\n",
    "\n",
    "plt.plot(cost_1, all_acc_1,\n",
    "         cost_2, all_acc_2,\n",
    "         cost_3, all_acc_3,\n",
    "         cost_4, all_acc_4,\n",
    "         cost_5, all_acc_5,)\n",
    "#          cost_6, all_acc_6,)\n",
    "#          cost_7, acc_valid_7)\n",
    "plt.legend(['TE', 'curRL', 'RL_pretrain30', 'RL_pretrain30_trellis', 'PAL' ,'RL-test', 'RL-valid'], loc='lower right', fancybox=True, fontsize = 9)\n",
    "# plt.xlim(200, 600)\n",
    "\n",
    "plt.title('CoNLL dataset')\n",
    "plt.xlabel('Number of training sequences')\n",
    "plt.ylabel('Prediction accuracy')\n",
    "plt.savefig('./results/sod.png', bbox_inches='tight')\n",
    "\n"
   ]
  },
  {
   "cell_type": "code",
   "execution_count": null,
   "metadata": {},
   "outputs": [],
   "source": []
  }
 ],
 "metadata": {
  "kernelspec": {
   "display_name": "Python3.6",
   "language": "python",
   "name": "ll5fy36"
  },
  "language_info": {
   "codemirror_mode": {
    "name": "ipython",
    "version": 3
   },
   "file_extension": ".py",
   "mimetype": "text/x-python",
   "name": "python",
   "nbconvert_exporter": "python",
   "pygments_lexer": "ipython3",
   "version": "3.6.9"
  }
 },
 "nbformat": 4,
 "nbformat_minor": 2
}
